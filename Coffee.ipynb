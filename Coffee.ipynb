{
 "cells": [
  {
   "cell_type": "markdown",
   "id": "517dc203",
   "metadata": {},
   "source": [
    "# Coffee Price Predictor"
   ]
  },
  {
   "cell_type": "code",
   "execution_count": 2,
   "id": "168fcc28",
   "metadata": {},
   "outputs": [],
   "source": [
    "import pandas as pd\n",
    "import matplotlib.pyplot as plt\n",
    "import numpy as np"
   ]
  },
  {
   "cell_type": "markdown",
   "id": "66b2bf8e",
   "metadata": {},
   "source": [
    "## Exploratory Data Analysis"
   ]
  },
  {
   "cell_type": "code",
   "execution_count": 3,
   "id": "e05af090",
   "metadata": {},
   "outputs": [],
   "source": [
    "df = pd.read_csv(\"C:\\\\Users\\Marquinoli\\Documents\\Datasets\\coffee.csv\")"
   ]
  },
  {
   "cell_type": "code",
   "execution_count": 4,
   "id": "ce035f92",
   "metadata": {},
   "outputs": [
    {
     "name": "stdout",
     "output_type": "stream",
     "text": [
      "<class 'pandas.core.frame.DataFrame'>\n",
      "RangeIndex: 360 entries, 0 to 359\n",
      "Data columns (total 9 columns):\n",
      " #   Column             Non-Null Count  Dtype  \n",
      "---  ------             --------------  -----  \n",
      " 0   Year               360 non-null    int64  \n",
      " 1   Month              360 non-null    object \n",
      " 2   Price_beef_kilo    360 non-null    float64\n",
      " 3   Price_rice_kilo    360 non-null    float64\n",
      " 4   Price_coffee_kilo  360 non-null    float64\n",
      " 5   Inflation_rate     347 non-null    float64\n",
      " 6   Price_rice_infl    347 non-null    float64\n",
      " 7   Price_beef_infl    347 non-null    float64\n",
      " 8   Price_coffee_infl  347 non-null    float64\n",
      "dtypes: float64(7), int64(1), object(1)\n",
      "memory usage: 25.4+ KB\n"
     ]
    }
   ],
   "source": [
    "df.info()"
   ]
  },
  {
   "cell_type": "code",
   "execution_count": 5,
   "id": "f0e31c57",
   "metadata": {},
   "outputs": [
    {
     "data": {
      "text/html": [
       "<div>\n",
       "<style scoped>\n",
       "    .dataframe tbody tr th:only-of-type {\n",
       "        vertical-align: middle;\n",
       "    }\n",
       "\n",
       "    .dataframe tbody tr th {\n",
       "        vertical-align: top;\n",
       "    }\n",
       "\n",
       "    .dataframe thead th {\n",
       "        text-align: right;\n",
       "    }\n",
       "</style>\n",
       "<table border=\"1\" class=\"dataframe\">\n",
       "  <thead>\n",
       "    <tr style=\"text-align: right;\">\n",
       "      <th></th>\n",
       "      <th>Year</th>\n",
       "      <th>Price_beef_kilo</th>\n",
       "      <th>Price_rice_kilo</th>\n",
       "      <th>Price_coffee_kilo</th>\n",
       "      <th>Inflation_rate</th>\n",
       "      <th>Price_rice_infl</th>\n",
       "      <th>Price_beef_infl</th>\n",
       "      <th>Price_coffee_infl</th>\n",
       "    </tr>\n",
       "  </thead>\n",
       "  <tbody>\n",
       "    <tr>\n",
       "      <th>count</th>\n",
       "      <td>360.000000</td>\n",
       "      <td>360.000000</td>\n",
       "      <td>360.000000</td>\n",
       "      <td>360.000000</td>\n",
       "      <td>347.000000</td>\n",
       "      <td>347.000000</td>\n",
       "      <td>347.000000</td>\n",
       "      <td>347.000000</td>\n",
       "    </tr>\n",
       "    <tr>\n",
       "      <th>mean</th>\n",
       "      <td>2006.583333</td>\n",
       "      <td>3.152056</td>\n",
       "      <td>0.364083</td>\n",
       "      <td>2.999722</td>\n",
       "      <td>36.320029</td>\n",
       "      <td>0.476167</td>\n",
       "      <td>4.044006</td>\n",
       "      <td>3.953660</td>\n",
       "    </tr>\n",
       "    <tr>\n",
       "      <th>std</th>\n",
       "      <td>8.671906</td>\n",
       "      <td>1.167673</td>\n",
       "      <td>0.131201</td>\n",
       "      <td>1.164001</td>\n",
       "      <td>27.062804</td>\n",
       "      <td>0.135525</td>\n",
       "      <td>0.900393</td>\n",
       "      <td>1.460999</td>\n",
       "    </tr>\n",
       "    <tr>\n",
       "      <th>min</th>\n",
       "      <td>1992.000000</td>\n",
       "      <td>1.630000</td>\n",
       "      <td>0.160000</td>\n",
       "      <td>1.170000</td>\n",
       "      <td>-1.290000</td>\n",
       "      <td>0.240000</td>\n",
       "      <td>2.680000</td>\n",
       "      <td>1.770000</td>\n",
       "    </tr>\n",
       "    <tr>\n",
       "      <th>25%</th>\n",
       "      <td>1999.000000</td>\n",
       "      <td>2.117500</td>\n",
       "      <td>0.260000</td>\n",
       "      <td>2.265000</td>\n",
       "      <td>12.370000</td>\n",
       "      <td>0.390000</td>\n",
       "      <td>3.185000</td>\n",
       "      <td>3.065000</td>\n",
       "    </tr>\n",
       "    <tr>\n",
       "      <th>50%</th>\n",
       "      <td>2007.000000</td>\n",
       "      <td>2.730000</td>\n",
       "      <td>0.345000</td>\n",
       "      <td>2.940000</td>\n",
       "      <td>28.300000</td>\n",
       "      <td>0.460000</td>\n",
       "      <td>4.090000</td>\n",
       "      <td>3.680000</td>\n",
       "    </tr>\n",
       "    <tr>\n",
       "      <th>75%</th>\n",
       "      <td>2014.000000</td>\n",
       "      <td>4.220000</td>\n",
       "      <td>0.440000</td>\n",
       "      <td>3.605000</td>\n",
       "      <td>59.700000</td>\n",
       "      <td>0.550000</td>\n",
       "      <td>4.735000</td>\n",
       "      <td>4.565000</td>\n",
       "    </tr>\n",
       "    <tr>\n",
       "      <th>max</th>\n",
       "      <td>2022.000000</td>\n",
       "      <td>6.170000</td>\n",
       "      <td>0.910000</td>\n",
       "      <td>6.620000</td>\n",
       "      <td>89.590000</td>\n",
       "      <td>1.120000</td>\n",
       "      <td>6.930000</td>\n",
       "      <td>9.760000</td>\n",
       "    </tr>\n",
       "  </tbody>\n",
       "</table>\n",
       "</div>"
      ],
      "text/plain": [
       "              Year  Price_beef_kilo  Price_rice_kilo  Price_coffee_kilo  \\\n",
       "count   360.000000       360.000000       360.000000         360.000000   \n",
       "mean   2006.583333         3.152056         0.364083           2.999722   \n",
       "std       8.671906         1.167673         0.131201           1.164001   \n",
       "min    1992.000000         1.630000         0.160000           1.170000   \n",
       "25%    1999.000000         2.117500         0.260000           2.265000   \n",
       "50%    2007.000000         2.730000         0.345000           2.940000   \n",
       "75%    2014.000000         4.220000         0.440000           3.605000   \n",
       "max    2022.000000         6.170000         0.910000           6.620000   \n",
       "\n",
       "       Inflation_rate  Price_rice_infl  Price_beef_infl  Price_coffee_infl  \n",
       "count      347.000000       347.000000       347.000000         347.000000  \n",
       "mean        36.320029         0.476167         4.044006           3.953660  \n",
       "std         27.062804         0.135525         0.900393           1.460999  \n",
       "min         -1.290000         0.240000         2.680000           1.770000  \n",
       "25%         12.370000         0.390000         3.185000           3.065000  \n",
       "50%         28.300000         0.460000         4.090000           3.680000  \n",
       "75%         59.700000         0.550000         4.735000           4.565000  \n",
       "max         89.590000         1.120000         6.930000           9.760000  "
      ]
     },
     "execution_count": 5,
     "metadata": {},
     "output_type": "execute_result"
    }
   ],
   "source": [
    "df.describe()"
   ]
  },
  {
   "cell_type": "code",
   "execution_count": 6,
   "id": "571ab2e2",
   "metadata": {},
   "outputs": [
    {
     "data": {
      "text/html": [
       "<div>\n",
       "<style scoped>\n",
       "    .dataframe tbody tr th:only-of-type {\n",
       "        vertical-align: middle;\n",
       "    }\n",
       "\n",
       "    .dataframe tbody tr th {\n",
       "        vertical-align: top;\n",
       "    }\n",
       "\n",
       "    .dataframe thead th {\n",
       "        text-align: right;\n",
       "    }\n",
       "</style>\n",
       "<table border=\"1\" class=\"dataframe\">\n",
       "  <thead>\n",
       "    <tr style=\"text-align: right;\">\n",
       "      <th></th>\n",
       "      <th>Year</th>\n",
       "      <th>Month</th>\n",
       "      <th>Price_beef_kilo</th>\n",
       "      <th>Price_rice_kilo</th>\n",
       "      <th>Price_coffee_kilo</th>\n",
       "      <th>Inflation_rate</th>\n",
       "      <th>Price_rice_infl</th>\n",
       "      <th>Price_beef_infl</th>\n",
       "      <th>Price_coffee_infl</th>\n",
       "    </tr>\n",
       "  </thead>\n",
       "  <tbody>\n",
       "    <tr>\n",
       "      <th>0</th>\n",
       "      <td>1992</td>\n",
       "      <td>Feb</td>\n",
       "      <td>2.52</td>\n",
       "      <td>0.28</td>\n",
       "      <td>1.51</td>\n",
       "      <td>89.59</td>\n",
       "      <td>0.53</td>\n",
       "      <td>4.78</td>\n",
       "      <td>2.86</td>\n",
       "    </tr>\n",
       "    <tr>\n",
       "      <th>1</th>\n",
       "      <td>1992</td>\n",
       "      <td>Mar</td>\n",
       "      <td>2.45</td>\n",
       "      <td>0.28</td>\n",
       "      <td>1.55</td>\n",
       "      <td>89.59</td>\n",
       "      <td>0.53</td>\n",
       "      <td>4.64</td>\n",
       "      <td>2.94</td>\n",
       "    </tr>\n",
       "    <tr>\n",
       "      <th>2</th>\n",
       "      <td>1992</td>\n",
       "      <td>Apr</td>\n",
       "      <td>2.38</td>\n",
       "      <td>0.28</td>\n",
       "      <td>1.45</td>\n",
       "      <td>89.59</td>\n",
       "      <td>0.53</td>\n",
       "      <td>4.51</td>\n",
       "      <td>2.75</td>\n",
       "    </tr>\n",
       "    <tr>\n",
       "      <th>3</th>\n",
       "      <td>1992</td>\n",
       "      <td>May</td>\n",
       "      <td>2.38</td>\n",
       "      <td>0.27</td>\n",
       "      <td>1.34</td>\n",
       "      <td>89.59</td>\n",
       "      <td>0.51</td>\n",
       "      <td>4.51</td>\n",
       "      <td>2.54</td>\n",
       "    </tr>\n",
       "    <tr>\n",
       "      <th>4</th>\n",
       "      <td>1992</td>\n",
       "      <td>Jun</td>\n",
       "      <td>2.33</td>\n",
       "      <td>0.27</td>\n",
       "      <td>1.30</td>\n",
       "      <td>89.59</td>\n",
       "      <td>0.51</td>\n",
       "      <td>4.42</td>\n",
       "      <td>2.46</td>\n",
       "    </tr>\n",
       "  </tbody>\n",
       "</table>\n",
       "</div>"
      ],
      "text/plain": [
       "   Year Month  Price_beef_kilo  Price_rice_kilo  Price_coffee_kilo  \\\n",
       "0  1992   Feb             2.52             0.28               1.51   \n",
       "1  1992   Mar             2.45             0.28               1.55   \n",
       "2  1992   Apr             2.38             0.28               1.45   \n",
       "3  1992   May             2.38             0.27               1.34   \n",
       "4  1992   Jun             2.33             0.27               1.30   \n",
       "\n",
       "   Inflation_rate  Price_rice_infl  Price_beef_infl  Price_coffee_infl  \n",
       "0           89.59             0.53             4.78               2.86  \n",
       "1           89.59             0.53             4.64               2.94  \n",
       "2           89.59             0.53             4.51               2.75  \n",
       "3           89.59             0.51             4.51               2.54  \n",
       "4           89.59             0.51             4.42               2.46  "
      ]
     },
     "execution_count": 6,
     "metadata": {},
     "output_type": "execute_result"
    }
   ],
   "source": [
    "df.head()"
   ]
  },
  {
   "cell_type": "markdown",
   "id": "8a9c8f08",
   "metadata": {},
   "source": [
    "### Cleaning the data\n",
    "#### Drop the unnecessary columns\n"
   ]
  },
  {
   "cell_type": "code",
   "execution_count": 7,
   "id": "cd023c8c",
   "metadata": {},
   "outputs": [],
   "source": [
    "df = df.loc[:, ['Year', 'Month', 'Price_coffee_kilo', 'Inflation_rate', 'Price_coffee_infl'] ]"
   ]
  },
  {
   "cell_type": "markdown",
   "id": "df47350d",
   "metadata": {},
   "source": [
    "#### Check for null values and replace them"
   ]
  },
  {
   "cell_type": "code",
   "execution_count": 8,
   "id": "668f66cd",
   "metadata": {},
   "outputs": [
    {
     "data": {
      "text/html": [
       "<div>\n",
       "<style scoped>\n",
       "    .dataframe tbody tr th:only-of-type {\n",
       "        vertical-align: middle;\n",
       "    }\n",
       "\n",
       "    .dataframe tbody tr th {\n",
       "        vertical-align: top;\n",
       "    }\n",
       "\n",
       "    .dataframe thead th {\n",
       "        text-align: right;\n",
       "    }\n",
       "</style>\n",
       "<table border=\"1\" class=\"dataframe\">\n",
       "  <thead>\n",
       "    <tr style=\"text-align: right;\">\n",
       "      <th></th>\n",
       "      <th>Year</th>\n",
       "      <th>Month</th>\n",
       "      <th>Price_coffee_kilo</th>\n",
       "      <th>Inflation_rate</th>\n",
       "      <th>Price_coffee_infl</th>\n",
       "    </tr>\n",
       "  </thead>\n",
       "  <tbody>\n",
       "    <tr>\n",
       "      <th>167</th>\n",
       "      <td>2006</td>\n",
       "      <td>Jan</td>\n",
       "      <td>2.74</td>\n",
       "      <td>NaN</td>\n",
       "      <td>NaN</td>\n",
       "    </tr>\n",
       "    <tr>\n",
       "      <th>168</th>\n",
       "      <td>2006</td>\n",
       "      <td>Feb</td>\n",
       "      <td>2.63</td>\n",
       "      <td>NaN</td>\n",
       "      <td>NaN</td>\n",
       "    </tr>\n",
       "    <tr>\n",
       "      <th>169</th>\n",
       "      <td>2006</td>\n",
       "      <td>Mar</td>\n",
       "      <td>2.51</td>\n",
       "      <td>NaN</td>\n",
       "      <td>NaN</td>\n",
       "    </tr>\n",
       "    <tr>\n",
       "      <th>170</th>\n",
       "      <td>2006</td>\n",
       "      <td>Apr</td>\n",
       "      <td>2.54</td>\n",
       "      <td>NaN</td>\n",
       "      <td>NaN</td>\n",
       "    </tr>\n",
       "    <tr>\n",
       "      <th>171</th>\n",
       "      <td>2006</td>\n",
       "      <td>May</td>\n",
       "      <td>2.41</td>\n",
       "      <td>NaN</td>\n",
       "      <td>NaN</td>\n",
       "    </tr>\n",
       "    <tr>\n",
       "      <th>172</th>\n",
       "      <td>2006</td>\n",
       "      <td>Jun</td>\n",
       "      <td>2.27</td>\n",
       "      <td>NaN</td>\n",
       "      <td>NaN</td>\n",
       "    </tr>\n",
       "    <tr>\n",
       "      <th>173</th>\n",
       "      <td>2006</td>\n",
       "      <td>Jul</td>\n",
       "      <td>2.31</td>\n",
       "      <td>NaN</td>\n",
       "      <td>NaN</td>\n",
       "    </tr>\n",
       "    <tr>\n",
       "      <th>174</th>\n",
       "      <td>2006</td>\n",
       "      <td>Aug</td>\n",
       "      <td>2.46</td>\n",
       "      <td>NaN</td>\n",
       "      <td>NaN</td>\n",
       "    </tr>\n",
       "    <tr>\n",
       "      <th>175</th>\n",
       "      <td>2006</td>\n",
       "      <td>Sep</td>\n",
       "      <td>2.42</td>\n",
       "      <td>NaN</td>\n",
       "      <td>NaN</td>\n",
       "    </tr>\n",
       "    <tr>\n",
       "      <th>176</th>\n",
       "      <td>2006</td>\n",
       "      <td>Oct</td>\n",
       "      <td>2.44</td>\n",
       "      <td>NaN</td>\n",
       "      <td>NaN</td>\n",
       "    </tr>\n",
       "    <tr>\n",
       "      <th>177</th>\n",
       "      <td>2006</td>\n",
       "      <td>Nov</td>\n",
       "      <td>2.70</td>\n",
       "      <td>NaN</td>\n",
       "      <td>NaN</td>\n",
       "    </tr>\n",
       "    <tr>\n",
       "      <th>178</th>\n",
       "      <td>2006</td>\n",
       "      <td>Dec</td>\n",
       "      <td>2.83</td>\n",
       "      <td>NaN</td>\n",
       "      <td>NaN</td>\n",
       "    </tr>\n",
       "    <tr>\n",
       "      <th>359</th>\n",
       "      <td>2022</td>\n",
       "      <td>Jan</td>\n",
       "      <td>5.98</td>\n",
       "      <td>NaN</td>\n",
       "      <td>NaN</td>\n",
       "    </tr>\n",
       "  </tbody>\n",
       "</table>\n",
       "</div>"
      ],
      "text/plain": [
       "     Year Month  Price_coffee_kilo  Inflation_rate  Price_coffee_infl\n",
       "167  2006   Jan               2.74             NaN                NaN\n",
       "168  2006   Feb               2.63             NaN                NaN\n",
       "169  2006   Mar               2.51             NaN                NaN\n",
       "170  2006   Apr               2.54             NaN                NaN\n",
       "171  2006   May               2.41             NaN                NaN\n",
       "172  2006   Jun               2.27             NaN                NaN\n",
       "173  2006   Jul               2.31             NaN                NaN\n",
       "174  2006   Aug               2.46             NaN                NaN\n",
       "175  2006   Sep               2.42             NaN                NaN\n",
       "176  2006   Oct               2.44             NaN                NaN\n",
       "177  2006   Nov               2.70             NaN                NaN\n",
       "178  2006   Dec               2.83             NaN                NaN\n",
       "359  2022   Jan               5.98             NaN                NaN"
      ]
     },
     "execution_count": 8,
     "metadata": {},
     "output_type": "execute_result"
    }
   ],
   "source": [
    "bool_series = pd.isnull(df['Inflation_rate'])\n",
    "df[bool_series]"
   ]
  },
  {
   "cell_type": "code",
   "execution_count": 9,
   "id": "acc9f6fc",
   "metadata": {},
   "outputs": [],
   "source": [
    "# Performed a \"front fill\" for the NaN values\n",
    "df.fillna(method='ffill', inplace=True)"
   ]
  },
  {
   "cell_type": "markdown",
   "id": "02ccd2f2",
   "metadata": {},
   "source": [
    "### Analyze the data"
   ]
  },
  {
   "cell_type": "code",
   "execution_count": 10,
   "id": "b88a4464",
   "metadata": {},
   "outputs": [
    {
     "data": {
      "text/plain": [
       "<AxesSubplot:>"
      ]
     },
     "execution_count": 10,
     "metadata": {},
     "output_type": "execute_result"
    },
    {
     "data": {
      "image/png": "[encoded data removed]",
      "text/plain": [
       "<Figure size 432x288 with 2 Axes>"
      ]
     },
     "metadata": {
      "needs_background": "light"
     },
     "output_type": "display_data"
    }
   ],
   "source": [
    "import seaborn as sns\n",
    "\n",
    "sns.heatmap(df.corr())"
   ]
  },
  {
   "cell_type": "markdown",
   "id": "e0fcda8b",
   "metadata": {},
   "source": [
    "##### The above heatmap shows that :\n",
    "- There's a positive correlation between the year and the price of coffee\n",
    "- There's a negative correlation between inflation rates and the price of coffee\n",
    "\n",
    "#### Group data by decades"
   ]
  },
  {
   "cell_type": "code",
   "execution_count": 11,
   "id": "117b3421",
   "metadata": {},
   "outputs": [],
   "source": [
    "df_1990 = df[df['Year'].isin(range(1990, 2000))]\n",
    "df_2000 = df[df['Year'].isin(range(2000, 2010))]\n",
    "df_2010 = df[df['Year'].isin(range(2010, 2020))]\n",
    "df_2020 = df[df['Year'] >= 2020]"
   ]
  },
  {
   "cell_type": "markdown",
   "id": "8df3718e",
   "metadata": {},
   "source": [
    "#### Group data by all 30 years and examine the average price of coffee during each year"
   ]
  },
  {
   "cell_type": "code",
   "execution_count": 12,
   "id": "f98f7f42",
   "metadata": {},
   "outputs": [],
   "source": [
    "df_year = df.groupby(df['Year']).mean()"
   ]
  },
  {
   "cell_type": "code",
   "execution_count": 13,
   "id": "9e5de0b9",
   "metadata": {},
   "outputs": [
    {
     "data": {
      "image/png": "[encoded data removed]",
      "text/plain": [
       "<Figure size 432x288 with 1 Axes>"
      ]
     },
     "metadata": {
      "needs_background": "light"
     },
     "output_type": "display_data"
    }
   ],
   "source": [
    "plt.scatter(df['Year'].unique(), df_year['Price_coffee_kilo'], label = 'Price of coffee before inflation')\n",
    "plt.scatter(df['Year'].unique(), df_year['Price_coffee_infl'], label = 'Price of coffee after inflation')\n",
    "plt.xlabel('Years')\n",
    "plt.ylabel('Price of coffee per kilo (USD)')\n",
    "plt.xticks( np.arange(1992, 2023, 2), rotation=45)\n",
    "plt.grid(True)\n",
    "plt.legend()\n",
    "plt.title(\"Price of coffee 1992-2022\")\n",
    "plt.show()"
   ]
  },
  {
   "cell_type": "markdown",
   "id": "d0a8de1e",
   "metadata": {},
   "source": [
    "##### The above graph shows that inflation affected the price the worst between 2010 and 2012"
   ]
  },
  {
   "cell_type": "code",
   "execution_count": 14,
   "id": "4107dded",
   "metadata": {},
   "outputs": [
    {
     "data": {
      "image/png": "[encoded data removed]",
      "text/plain": [
       "<Figure size 432x288 with 1 Axes>"
      ]
     },
     "metadata": {
      "needs_background": "light"
     },
     "output_type": "display_data"
    }
   ],
   "source": [
    "dates_in_order = pd.date_range(start='2022-01-01', end='2022-12-01', freq='MS')\n",
    "months_in_order = dates_in_order.map(lambda x: x.month_name()).to_list()\n",
    "months_in_order =[m[0:3] for m in months_in_order] #get just the first 3 letters of a month\n",
    "\n",
    "\n",
    "# This is a helper function that helps me sort the months by name.\n",
    "def sort_by_month(data):\n",
    "    data.index = pd.CategoricalIndex(data['Month'], categories=months_in_order, ordered=True)\n",
    "    data = data.sort_index().reset_index(drop=True)\n",
    "    return data\n",
    "\n",
    "# For each decade, plot the average price of coffee and group by months.\n",
    "df_1990_month = df_1990.drop(columns = 'Year').groupby(df_1990['Month']).mean().reset_index()\n",
    "df_1990_month = sort_by_month(df_1990_month)\n",
    "\n",
    "df_2000_month = df_2000.drop(columns = 'Year').groupby(df_2000['Month']).mean().reset_index()\n",
    "df_2000_month = sort_by_month(df_2000_month)\n",
    "\n",
    "df_2010_month = df_2010.drop(columns = 'Year').groupby(df_2010['Month']).mean().reset_index()\n",
    "df_2010_month = sort_by_month(df_2010_month)\n",
    "\n",
    "df_2020_month = df_2020.drop(columns = 'Year').groupby(df_2020['Month']).mean().reset_index()\n",
    "df_2020_month = sort_by_month(df_2020_month)\n",
    "\n",
    "\n",
    "\n",
    "plt.plot(df_1990_month['Month'], df_1990_month['Price_coffee_kilo'], label='1990-1999')\n",
    "plt.plot(df_2000_month['Month'], df_2000_month['Price_coffee_kilo'], label='2000-2009')\n",
    "plt.plot(df_2010_month['Month'], df_2010_month['Price_coffee_kilo'], label='2010-2019')\n",
    "plt.plot(df_2020_month['Month'], df_2020_month['Price_coffee_kilo'], label='2020-present')\n",
    "plt.xlabel('Months')\n",
    "plt.ylabel('Price of coffee per kilo (USD)')\n",
    "plt.ylim(2, 5.5)\n",
    "plt.legend()\n",
    "plt.title('Seasonal Price of coffee 1992-2022')\n",
    "plt.show()\n",
    "\n"
   ]
  },
  {
   "cell_type": "markdown",
   "id": "c47e42e6",
   "metadata": {},
   "source": [
    "##### The above graph shows that:\n",
    "- Decades 2010-2019 and 2000-2009 were the most stable.\n",
    "- The cheapest coffee was found during the 2000's decade.\n",
    "- Coffee is most expensive in present-day."
   ]
  },
  {
   "cell_type": "code",
   "execution_count": 15,
   "id": "8561d0b3",
   "metadata": {},
   "outputs": [
    {
     "data": {
      "image/png": "[encoded data removed]",
      "text/plain": [
       "<Figure size 432x288 with 1 Axes>"
      ]
     },
     "metadata": {
      "needs_background": "light"
     },
     "output_type": "display_data"
    }
   ],
   "source": [
    "plt.plot(df_1990_month['Month'], df_1990_month['Price_coffee_infl'], label='1990-1999')\n",
    "plt.plot(df_2000_month['Month'], df_2000_month['Price_coffee_infl'], label='2000-2009')\n",
    "plt.plot(df_2010_month['Month'], df_2010_month['Price_coffee_infl'], label='2010-2020')\n",
    "plt.plot(df_2020_month['Month'], df_2020_month['Price_coffee_infl'], label='2020-present')\n",
    "plt.xlabel('Months')\n",
    "plt.ylabel('Price of coffee (USD)')\n",
    "plt.ylim(2, 5.5)\n",
    "plt.legend()\n",
    "plt.title('Seasonal inflated price of coffee 1992-2022')\n",
    "plt.show()"
   ]
  },
  {
   "cell_type": "markdown",
   "id": "8a0e1ff5",
   "metadata": {},
   "source": [
    "##### The above graph shows that inflation was the highest during 1990-1999\n",
    "### Compare the two most recent years before 2022"
   ]
  },
  {
   "cell_type": "code",
   "execution_count": 16,
   "id": "bf41e5c4",
   "metadata": {},
   "outputs": [],
   "source": [
    "df_2020_single = df[df['Year'] == 2020]\n",
    "df_2021_single = df[df['Year'] == 2021]"
   ]
  },
  {
   "cell_type": "code",
   "execution_count": 17,
   "id": "d58afd52",
   "metadata": {},
   "outputs": [
    {
     "data": {
      "image/png": "[encoded data removed]",
      "text/plain": [
       "<Figure size 432x288 with 1 Axes>"
      ]
     },
     "metadata": {
      "needs_background": "light"
     },
     "output_type": "display_data"
    }
   ],
   "source": [
    "plt.plot(df_2020_single['Month'], df_2020_single['Price_coffee_kilo'], label='Prices in 2020')\n",
    "plt.plot(df_2021_single['Month'], df_2021_single['Price_coffee_kilo'], label='Prices in 2021')\n",
    "plt.xlabel('Months')\n",
    "plt.ylabel('Price of coffee per kilo (USD)')\n",
    "plt.legend()\n",
    "plt.ylim(2.5,6.0)\n",
    "plt.title('Price of coffee during 2020-2021')\n",
    "plt.show()"
   ]
  },
  {
   "cell_type": "markdown",
   "id": "86aa6934",
   "metadata": {},
   "source": [
    "##### The above graph shows that the price of coffee spikes dramatically throughout 2021 and continues to rise"
   ]
  },
  {
   "cell_type": "code",
   "execution_count": 18,
   "id": "32ea98a5",
   "metadata": {},
   "outputs": [
    {
     "data": {
      "image/png": "[encoded data removed]",
      "text/plain": [
       "<Figure size 432x288 with 1 Axes>"
      ]
     },
     "metadata": {
      "needs_background": "light"
     },
     "output_type": "display_data"
    }
   ],
   "source": [
    "df_all_month = df.groupby(df['Month']).mean().reset_index()\n",
    "df_all_month = sort_by_month(df_all_month)\n",
    "df_all_month.drop(columns='Year', inplace=True)\n",
    "\n",
    "\n",
    "  \n",
    "plt.plot(df_all_month['Month'], df_all_month['Price_coffee_kilo'], label = 'Price before inflation')\n",
    "plt.plot(df_all_month['Month'], df_all_month['Price_coffee_infl'], label = 'Price after inflation')\n",
    "  \n",
    "\n",
    "plt.xlabel(\"Months\")\n",
    "plt.ylabel(\"Price of coffee / kg (USD)\")\n",
    "plt.title(\"Average price of coffee 1992-2022\")\n",
    "plt.ylim(2.5, 5.0)\n",
    "plt.legend()\n",
    "plt.show()"
   ]
  },
  {
   "cell_type": "markdown",
   "id": "bdb453ff",
   "metadata": {},
   "source": [
    "##### On average, there is no significant relation between the price and the month.\n",
    "##### We could maybe make the claim that May is when the coffee prices spike."
   ]
  },
  {
   "cell_type": "markdown",
   "id": "bae43728",
   "metadata": {},
   "source": [
    "## Build the models"
   ]
  },
  {
   "cell_type": "code",
   "execution_count": 19,
   "id": "f8d1ee27",
   "metadata": {},
   "outputs": [],
   "source": [
    "from sklearn.model_selection import train_test_split\n",
    "df_model = df"
   ]
  },
  {
   "cell_type": "code",
   "execution_count": 26,
   "id": "639b026f",
   "metadata": {},
   "outputs": [
    {
     "data": {
      "text/html": [
       "<div>\n",
       "<style scoped>\n",
       "    .dataframe tbody tr th:only-of-type {\n",
       "        vertical-align: middle;\n",
       "    }\n",
       "\n",
       "    .dataframe tbody tr th {\n",
       "        vertical-align: top;\n",
       "    }\n",
       "\n",
       "    .dataframe thead th {\n",
       "        text-align: right;\n",
       "    }\n",
       "</style>\n",
       "<table border=\"1\" class=\"dataframe\">\n",
       "  <thead>\n",
       "    <tr style=\"text-align: right;\">\n",
       "      <th></th>\n",
       "      <th>Year</th>\n",
       "      <th>Month</th>\n",
       "      <th>Price_coffee_kilo</th>\n",
       "      <th>Inflation_rate</th>\n",
       "      <th>Price_coffee_infl</th>\n",
       "    </tr>\n",
       "  </thead>\n",
       "  <tbody>\n",
       "    <tr>\n",
       "      <th>0</th>\n",
       "      <td>1992</td>\n",
       "      <td>2</td>\n",
       "      <td>1.51</td>\n",
       "      <td>89.59</td>\n",
       "      <td>2.86</td>\n",
       "    </tr>\n",
       "    <tr>\n",
       "      <th>1</th>\n",
       "      <td>1992</td>\n",
       "      <td>3</td>\n",
       "      <td>1.55</td>\n",
       "      <td>89.59</td>\n",
       "      <td>2.94</td>\n",
       "    </tr>\n",
       "    <tr>\n",
       "      <th>2</th>\n",
       "      <td>1992</td>\n",
       "      <td>4</td>\n",
       "      <td>1.45</td>\n",
       "      <td>89.59</td>\n",
       "      <td>2.75</td>\n",
       "    </tr>\n",
       "    <tr>\n",
       "      <th>3</th>\n",
       "      <td>1992</td>\n",
       "      <td>5</td>\n",
       "      <td>1.34</td>\n",
       "      <td>89.59</td>\n",
       "      <td>2.54</td>\n",
       "    </tr>\n",
       "    <tr>\n",
       "      <th>4</th>\n",
       "      <td>1992</td>\n",
       "      <td>6</td>\n",
       "      <td>1.30</td>\n",
       "      <td>89.59</td>\n",
       "      <td>2.46</td>\n",
       "    </tr>\n",
       "    <tr>\n",
       "      <th>...</th>\n",
       "      <td>...</td>\n",
       "      <td>...</td>\n",
       "      <td>...</td>\n",
       "      <td>...</td>\n",
       "      <td>...</td>\n",
       "    </tr>\n",
       "    <tr>\n",
       "      <th>355</th>\n",
       "      <td>2021</td>\n",
       "      <td>9</td>\n",
       "      <td>4.97</td>\n",
       "      <td>-1.29</td>\n",
       "      <td>4.91</td>\n",
       "    </tr>\n",
       "    <tr>\n",
       "      <th>356</th>\n",
       "      <td>2021</td>\n",
       "      <td>10</td>\n",
       "      <td>5.31</td>\n",
       "      <td>-1.29</td>\n",
       "      <td>5.24</td>\n",
       "    </tr>\n",
       "    <tr>\n",
       "      <th>357</th>\n",
       "      <td>2021</td>\n",
       "      <td>11</td>\n",
       "      <td>5.71</td>\n",
       "      <td>-1.29</td>\n",
       "      <td>5.64</td>\n",
       "    </tr>\n",
       "    <tr>\n",
       "      <th>358</th>\n",
       "      <td>2021</td>\n",
       "      <td>12</td>\n",
       "      <td>5.91</td>\n",
       "      <td>-1.29</td>\n",
       "      <td>5.83</td>\n",
       "    </tr>\n",
       "    <tr>\n",
       "      <th>359</th>\n",
       "      <td>2022</td>\n",
       "      <td>1</td>\n",
       "      <td>5.98</td>\n",
       "      <td>-1.29</td>\n",
       "      <td>5.83</td>\n",
       "    </tr>\n",
       "  </tbody>\n",
       "</table>\n",
       "<p>360 rows × 5 columns</p>\n",
       "</div>"
      ],
      "text/plain": [
       "     Year  Month  Price_coffee_kilo  Inflation_rate  Price_coffee_infl\n",
       "0    1992      2               1.51           89.59               2.86\n",
       "1    1992      3               1.55           89.59               2.94\n",
       "2    1992      4               1.45           89.59               2.75\n",
       "3    1992      5               1.34           89.59               2.54\n",
       "4    1992      6               1.30           89.59               2.46\n",
       "..    ...    ...                ...             ...                ...\n",
       "355  2021      9               4.97           -1.29               4.91\n",
       "356  2021     10               5.31           -1.29               5.24\n",
       "357  2021     11               5.71           -1.29               5.64\n",
       "358  2021     12               5.91           -1.29               5.83\n",
       "359  2022      1               5.98           -1.29               5.83\n",
       "\n",
       "[360 rows x 5 columns]"
      ]
     },
     "execution_count": 26,
     "metadata": {},
     "output_type": "execute_result"
    }
   ],
   "source": [
    "# Convert month names to month numbers\n",
    "from datetime import datetime\n",
    "df_model['Month'] = df_model['Month'].apply(lambda x: datetime.strptime(x, '%b').month)\n",
    "df_model"
   ]
  },
  {
   "cell_type": "markdown",
   "id": "011f363f",
   "metadata": {},
   "source": [
    "#### Split the dataset into X and y values to train the model with"
   ]
  },
  {
   "cell_type": "code",
   "execution_count": 113,
   "id": "77ce0dcc",
   "metadata": {},
   "outputs": [],
   "source": [
    "x_train, x_test, y_train, y_test = train_test_split(df_model[['Year', 'Month', 'Inflation_rate', 'Price_coffee_infl' ]], df_model[['Price_coffee_kilo']], test_size = 0.30, random_state = 0)\n"
   ]
  },
  {
   "cell_type": "markdown",
   "id": "0683ae7e",
   "metadata": {},
   "source": [
    "### Decision Tree Regressor Model"
   ]
  },
  {
   "cell_type": "code",
   "execution_count": 114,
   "id": "b8efb77f",
   "metadata": {},
   "outputs": [
    {
     "data": {
      "text/plain": [
       "DecisionTreeRegressor(random_state=1)"
      ]
     },
     "execution_count": 114,
     "metadata": {},
     "output_type": "execute_result"
    }
   ],
   "source": [
    "from sklearn.tree import DecisionTreeRegressor \n",
    "decision_tree_model = DecisionTreeRegressor(random_state = 1) \n",
    "decision_tree_model.fit(x_train, y_train)"
   ]
  },
  {
   "cell_type": "code",
   "execution_count": 115,
   "id": "d6654b4b",
   "metadata": {},
   "outputs": [
    {
     "name": "stdout",
     "output_type": "stream",
     "text": [
      "Decision Tree Regressor R^2 score =  0.9857677600843539\n"
     ]
    }
   ],
   "source": [
    "decision_tree_predictions = decision_tree_model.predict(x_test)\n",
    "print(\"Decision Tree Regressor R^2 score = \", decision_tree_model.score(x_test,y_test))\n"
   ]
  },
  {
   "cell_type": "code",
   "execution_count": 116,
   "id": "b64f3fbd",
   "metadata": {},
   "outputs": [
    {
     "data": {
      "image/png": "[encoded data removed]",
      "text/plain": [
       "<Figure size 432x288 with 1 Axes>"
      ]
     },
     "metadata": {
      "needs_background": "light"
     },
     "output_type": "display_data"
    }
   ],
   "source": [
    "plt.scatter(x_test['Year'], decision_tree_predictions, label='Predictions')\n",
    "plt.scatter(x_test['Year'], y_test['Price_coffee_kilo'], label='Real Values')\n",
    "plt.ylim(1.0, 6.5)\n",
    "\n",
    "plt.xticks(np.arange(1992, 2023, 2), rotation=45)\n",
    "plt.legend()\n",
    "plt.title('Decision Tree Model')\n",
    "plt.grid(True)\n",
    "plt.show()"
   ]
  },
  {
   "cell_type": "markdown",
   "id": "0b0220e3",
   "metadata": {},
   "source": [
    "##### The graph above describes how well the model performed compared to the real values"
   ]
  },
  {
   "cell_type": "markdown",
   "id": "fb05a43b",
   "metadata": {},
   "source": [
    "### Random Forest Regressor"
   ]
  },
  {
   "cell_type": "code",
   "execution_count": 118,
   "id": "12ecbbc3",
   "metadata": {},
   "outputs": [
    {
     "name": "stderr",
     "output_type": "stream",
     "text": [
      "C:\\Users\\Marquinoli\\AppData\\Local\\Temp\\ipykernel_2164\\840439651.py:3: DataConversionWarning: A column-vector y was passed when a 1d array was expected. Please change the shape of y to (n_samples,), for example using ravel().\n",
      "  random_forest_model.fit(x_train, y_train)\n"
     ]
    },
    {
     "data": {
      "text/plain": [
       "RandomForestRegressor(random_state=0)"
      ]
     },
     "execution_count": 118,
     "metadata": {},
     "output_type": "execute_result"
    }
   ],
   "source": [
    "from sklearn.ensemble import RandomForestRegressor\n",
    "random_forest_model = RandomForestRegressor(n_estimators = 100, random_state = 0)\n",
    "random_forest_model.fit(x_train, y_train)"
   ]
  },
  {
   "cell_type": "code",
   "execution_count": 119,
   "id": "ea441181",
   "metadata": {},
   "outputs": [
    {
     "name": "stdout",
     "output_type": "stream",
     "text": [
      "Random Forest Regressor R^2 score:  0.9884100443202419\n"
     ]
    }
   ],
   "source": [
    "random_forest_predictions = random_forest_model.predict(x_test)\n",
    "random_forest_score = random_forest_model.score(x_test, y_test)\n",
    "print(\"Random Forest Regressor R^2 score: \", random_forest_score)"
   ]
  },
  {
   "cell_type": "code",
   "execution_count": 120,
   "id": "cdcde196",
   "metadata": {},
   "outputs": [
    {
     "data": {
      "image/png": "[encoded data removed]",
      "text/plain": [
       "<Figure size 432x288 with 1 Axes>"
      ]
     },
     "metadata": {
      "needs_background": "light"
     },
     "output_type": "display_data"
    }
   ],
   "source": [
    "plt.scatter(x_test['Year'], random_forest_predictions, label='Predictions')\n",
    "plt.scatter(x_test['Year'], y_test['Price_coffee_kilo'], label='Real Values')\n",
    "plt.ylim(1.0, 6.5)\n",
    "\n",
    "plt.xticks(np.arange(1992, 2023, 2), rotation=45)\n",
    "plt.legend()\n",
    "plt.title('Random Forest Model')\n",
    "plt.grid(True)\n",
    "plt.show()\n"
   ]
  },
  {
   "cell_type": "markdown",
   "id": "5144e9c4",
   "metadata": {},
   "source": [
    "##### It's not that easy to recognize, but we may infer that our Random Forest Regressor performed slightly better"
   ]
  },
  {
   "cell_type": "code",
   "execution_count": 124,
   "id": "be379c43",
   "metadata": {},
   "outputs": [
    {
     "data": {
      "image/png": "[encoded data removed]",
      "text/plain": [
       "<Figure size 432x288 with 1 Axes>"
      ]
     },
     "metadata": {
      "needs_background": "light"
     },
     "output_type": "display_data"
    }
   ],
   "source": [
    "plt.scatter(x_test['Year'], random_forest_predictions, label='Random Forest Predictions', color='orange')\n",
    "plt.scatter(x_test['Year'], decision_tree_predictions, label='Decision Tree Predictions', color='red')\n",
    "plt.scatter(x_test['Year'], y_test['Price_coffee_kilo'], label='Real Values')\n",
    "plt.ylim(1.0, 6.5)\n",
    "\n",
    "plt.xticks(np.arange(1992, 2023, 2), rotation=45)\n",
    "plt.legend()\n",
    "plt.title('Random Forest vs. Decision Tree')\n",
    "plt.grid(True)\n",
    "plt.show()"
   ]
  },
  {
   "cell_type": "markdown",
   "id": "01a58473",
   "metadata": {},
   "source": [
    "#### Compare the 2 scores"
   ]
  },
  {
   "cell_type": "code",
   "execution_count": 126,
   "id": "dc249ad5",
   "metadata": {},
   "outputs": [
    {
     "name": "stdout",
     "output_type": "stream",
     "text": [
      "Random Forest Regressor R^2 score:  0.9884100443202419\n",
      "Decision Tree Regressor R^2 score:  0.9857677600843539\n"
     ]
    }
   ],
   "source": [
    "print(\"Random Forest Regressor R^2 score: \", random_forest_score)\n",
    "print(\"Decision Tree Regressor R^2 score: \", decision_tree_model.score(x_test,y_test))"
   ]
  },
  {
   "cell_type": "code",
   "execution_count": null,
   "id": "f18a71b6",
   "metadata": {},
   "outputs": [],
   "source": []
  }
 ],
 "metadata": {
  "kernelspec": {
   "display_name": "Python 3 (ipykernel)",
   "language": "python",
   "name": "python3"
  },
  "language_info": {
   "codemirror_mode": {
    "name": "ipython",
    "version": 3
   },
   "file_extension": ".py",
   "mimetype": "text/x-python",
   "name": "python",
   "nbconvert_exporter": "python",
   "pygments_lexer": "ipython3",
   "version": "3.9.12"
  }
 },
 "nbformat": 4,
 "nbformat_minor": 5
}
